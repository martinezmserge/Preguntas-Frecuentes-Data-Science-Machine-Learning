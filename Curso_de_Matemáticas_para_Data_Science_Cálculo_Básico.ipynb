{
  "nbformat": 4,
  "nbformat_minor": 0,
  "metadata": {
    "colab": {
      "name": "Curso de Matemáticas para Data Science: Cálculo Básico.ipynb",
      "provenance": [],
      "authorship_tag": "ABX9TyO1ctCPNFsVGoXKolrSJddj",
      "include_colab_link": true
    },
    "kernelspec": {
      "name": "python3",
      "display_name": "Python 3"
    },
    "language_info": {
      "name": "python"
    }
  },
  "cells": [
    {
      "cell_type": "markdown",
      "metadata": {
        "id": "view-in-github",
        "colab_type": "text"
      },
      "source": [
        "<a href=\"https://colab.research.google.com/github/martinezmserge/Preguntas-Frecuentes-Data-Science-Machine-Learning/blob/main/Curso_de_Matem%C3%A1ticas_para_Data_Science_C%C3%A1lculo_B%C3%A1sico.ipynb\" target=\"_parent\"><img src=\"https://colab.research.google.com/assets/colab-badge.svg\" alt=\"Open In Colab\"/></a>"
      ]
    },
    {
      "cell_type": "code",
      "metadata": {
        "id": "ILHG8JJMl6s0"
      },
      "source": [
        ""
      ],
      "execution_count": null,
      "outputs": []
    },
    {
      "cell_type": "markdown",
      "metadata": {
        "id": "FXa8XQzKkZTE"
      },
      "source": [
        "# Función\n"
      ]
    }
  ]
}